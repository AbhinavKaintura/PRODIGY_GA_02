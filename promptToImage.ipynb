{
 "cells": [
  {
   "cell_type": "code",
   "execution_count": 1,
   "metadata": {},
   "outputs": [],
   "source": [
    "from diffusers import StableDiffusionPipeline\n",
    "import torch"
   ]
  },
  {
   "cell_type": "code",
   "execution_count": null,
   "metadata": {},
   "outputs": [],
   "source": [
    "# Load the model\n",
    "pipe = StableDiffusionPipeline.from_pretrained(\"CompVis/stable-diffusion-v1-4\", torch_dtype=torch.float16)\n",
    "pipe = pipe.to(\"cuda\")"
   ]
  },
  {
   "cell_type": "code",
   "execution_count": null,
   "metadata": {},
   "outputs": [],
   "source": [
    "import torch\n",
    "# Check if CUDA is available\n",
    "if torch.cuda.is_available():\n",
    "    device = torch.device(\"cuda\")  # Use the GPU\n",
    "    print(\"CUDA is available, using GPU\")\n",
    "else:\n",
    "    device = torch.device(\"cpu\")  # Fall back to the CPU\n",
    "    print(\"CUDA is not available, using CPU\")\n",
    "print(torch.cuda.get_device_name(0))  # Displays the name of the GPU"
   ]
  },
  {
   "cell_type": "code",
   "execution_count": null,
   "metadata": {},
   "outputs": [],
   "source": [
    "prompt = input(\"Enter the text prompt for image generation: \")\n",
    "num_images = int(input(\"Enter the number of images to generate: \"))\n",
    "print(prompt)"
   ]
  },
  {
   "cell_type": "code",
   "execution_count": null,
   "metadata": {},
   "outputs": [],
   "source": [
    "# Generate and save the images\n",
    "for i in range(num_images):\n",
    "    image = pipe(prompt).images[0]  # Generate the image\n",
    "    image.show()\n",
    "    image.save(f\"generated_image_{i+1}.png\")  # Save the image with numbered file name\n",
    "\n",
    "    print(f\"Image {i+1} saved as 'generated_image_{i+1}.png'\")\n",
    "\n",
    "print(\"All images have been generated and saved.\")"
   ]
  }
 ],
 "metadata": {
  "kernelspec": {
   "display_name": "Python 3",
   "language": "python",
   "name": "python3"
  },
  "language_info": {
   "codemirror_mode": {
    "name": "ipython",
    "version": 3
   },
   "file_extension": ".py",
   "mimetype": "text/x-python",
   "name": "python",
   "nbconvert_exporter": "python",
   "pygments_lexer": "ipython3",
   "version": "3.12.5"
  }
 },
 "nbformat": 4,
 "nbformat_minor": 2
}
